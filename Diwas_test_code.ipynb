{
 "cells": [
  {
   "cell_type": "code",
   "execution_count": 43,
   "id": "initial_id",
   "metadata": {
    "collapsed": true,
    "ExecuteTime": {
     "end_time": "2024-04-22T00:54:56.830007Z",
     "start_time": "2024-04-22T00:54:56.822322Z"
    }
   },
   "outputs": [],
   "source": [
    "import seaborn as sns\n",
    "from sklearn.model_selection import train_test_split\n",
    "from sklearn.neighbors import KNeighborsClassifier\n",
    "from sklearn.metrics import accuracy_score\n",
    "from sklearn.preprocessing import MinMaxScaler, StandardScaler\n",
    "import pandas as pd\n",
    "from sklearn.model_selection import cross_val_score\n",
    "from sklearn.tree import DecisionTreeClassifier\n",
    "from sklearn.ensemble import RandomForestClassifier\n",
    "from sklearn.metrics import confusion_matrix\n",
    "import warnings as warning\n",
    "from matplotlib import pyplot as plt\n",
    "from sklearn.preprocessing import Normalizer\n",
    "from sklearn.metrics import ConfusionMatrixDisplay"
   ]
  },
  {
   "cell_type": "code",
   "outputs": [],
   "source": [
    "# Load data and drop unnecessary columns and rows with null values\n",
    "\n",
    "data = pd.read_csv('data/song_data.csv').drop(columns=['track_id', 'key', 'album_name', 'track_name','track_genre','artists']).dropna(how='any')\n",
    "\n",
    "# data = data[data['popularity'] > 60]\n",
    "data['popularity'] = data['popularity'].apply(lambda x: 1 if x > 60 else 0)\n",
    "# Convert True to 1 and False to 0 in the \"popularity\" column\n",
    "data['explicit'] = data['explicit'].astype(int)\n",
    "# # Assuming 'popularity' column contains numerical values\n",
    "# data['popularity'] = data['popularity'].apply(lambda x: 1 if x > 60 else 0)\n",
    "# # Convert True to 1 and False to 0 in the \"popularity\" column\n",
    "# data['explicit'] = data['explicit'].astype(int)\n",
    "\n",
    "target = data['popularity']\n",
    "\n",
    "# # Create a DataFrame for the features (excluding the 'popularity' column)\n",
    "# features = data.drop(columns=['popularity'])\n",
    "\n",
    "# Reshape the data to long format\n",
    "long_data = pd.melt(data, id_vars=['popularity'], var_name='feature', value_name='value')\n",
    "\n",
    "# Calculate the mean for each feature and popularity\n",
    "#means = long_data.groupby(['feature', 'popularity'])['value'].mean().reset_index()\n",
    "\n",
    "# Reshape the data back to wide format\n",
    "#wide_means = means.pivot(index='feature', columns='popularity', values='value')\n",
    "\n"
   ],
   "metadata": {
    "collapsed": false,
    "ExecuteTime": {
     "end_time": "2024-04-22T00:54:57.787162Z",
     "start_time": "2024-04-22T00:54:57.583420Z"
    }
   },
   "id": "e92ee6315d001c22",
   "execution_count": 44
  },
  {
   "cell_type": "code",
   "outputs": [
    {
     "data": {
      "text/plain": "   Unnamed: 0  popularity  duration_ms  explicit  danceability  energy  \\\n0           0           1       230666         0         0.676  0.4610   \n1           1           0       149610         0         0.420  0.1660   \n2           2           0       210826         0         0.438  0.3590   \n3           3           1       201933         0         0.266  0.0596   \n4           4           1       198853         0         0.618  0.4430   \n\n   loudness  mode  speechiness  acousticness  instrumentalness  liveness  \\\n0    -6.746     0       0.1430        0.0322          0.000001    0.3580   \n1   -17.235     1       0.0763        0.9240          0.000006    0.1010   \n2    -9.734     1       0.0557        0.2100          0.000000    0.1170   \n3   -18.515     1       0.0363        0.9050          0.000071    0.1320   \n4    -9.681     1       0.0526        0.4690          0.000000    0.0829   \n\n   valence    tempo  time_signature  \n0    0.715   87.917               4  \n1    0.267   77.489               4  \n2    0.120   76.332               4  \n3    0.143  181.740               3  \n4    0.167  119.949               4  ",
      "text/html": "<div>\n<style scoped>\n    .dataframe tbody tr th:only-of-type {\n        vertical-align: middle;\n    }\n\n    .dataframe tbody tr th {\n        vertical-align: top;\n    }\n\n    .dataframe thead th {\n        text-align: right;\n    }\n</style>\n<table border=\"1\" class=\"dataframe\">\n  <thead>\n    <tr style=\"text-align: right;\">\n      <th></th>\n      <th>Unnamed: 0</th>\n      <th>popularity</th>\n      <th>duration_ms</th>\n      <th>explicit</th>\n      <th>danceability</th>\n      <th>energy</th>\n      <th>loudness</th>\n      <th>mode</th>\n      <th>speechiness</th>\n      <th>acousticness</th>\n      <th>instrumentalness</th>\n      <th>liveness</th>\n      <th>valence</th>\n      <th>tempo</th>\n      <th>time_signature</th>\n    </tr>\n  </thead>\n  <tbody>\n    <tr>\n      <th>0</th>\n      <td>0</td>\n      <td>1</td>\n      <td>230666</td>\n      <td>0</td>\n      <td>0.676</td>\n      <td>0.4610</td>\n      <td>-6.746</td>\n      <td>0</td>\n      <td>0.1430</td>\n      <td>0.0322</td>\n      <td>0.000001</td>\n      <td>0.3580</td>\n      <td>0.715</td>\n      <td>87.917</td>\n      <td>4</td>\n    </tr>\n    <tr>\n      <th>1</th>\n      <td>1</td>\n      <td>0</td>\n      <td>149610</td>\n      <td>0</td>\n      <td>0.420</td>\n      <td>0.1660</td>\n      <td>-17.235</td>\n      <td>1</td>\n      <td>0.0763</td>\n      <td>0.9240</td>\n      <td>0.000006</td>\n      <td>0.1010</td>\n      <td>0.267</td>\n      <td>77.489</td>\n      <td>4</td>\n    </tr>\n    <tr>\n      <th>2</th>\n      <td>2</td>\n      <td>0</td>\n      <td>210826</td>\n      <td>0</td>\n      <td>0.438</td>\n      <td>0.3590</td>\n      <td>-9.734</td>\n      <td>1</td>\n      <td>0.0557</td>\n      <td>0.2100</td>\n      <td>0.000000</td>\n      <td>0.1170</td>\n      <td>0.120</td>\n      <td>76.332</td>\n      <td>4</td>\n    </tr>\n    <tr>\n      <th>3</th>\n      <td>3</td>\n      <td>1</td>\n      <td>201933</td>\n      <td>0</td>\n      <td>0.266</td>\n      <td>0.0596</td>\n      <td>-18.515</td>\n      <td>1</td>\n      <td>0.0363</td>\n      <td>0.9050</td>\n      <td>0.000071</td>\n      <td>0.1320</td>\n      <td>0.143</td>\n      <td>181.740</td>\n      <td>3</td>\n    </tr>\n    <tr>\n      <th>4</th>\n      <td>4</td>\n      <td>1</td>\n      <td>198853</td>\n      <td>0</td>\n      <td>0.618</td>\n      <td>0.4430</td>\n      <td>-9.681</td>\n      <td>1</td>\n      <td>0.0526</td>\n      <td>0.4690</td>\n      <td>0.000000</td>\n      <td>0.0829</td>\n      <td>0.167</td>\n      <td>119.949</td>\n      <td>4</td>\n    </tr>\n  </tbody>\n</table>\n</div>"
     },
     "execution_count": 53,
     "metadata": {},
     "output_type": "execute_result"
    }
   ],
   "source": [
    "\n",
    "\n",
    "data.head()\n",
    "\n"
   ],
   "metadata": {
    "collapsed": false,
    "ExecuteTime": {
     "end_time": "2024-04-22T00:58:24.608316Z",
     "start_time": "2024-04-22T00:58:24.603324Z"
    }
   },
   "id": "4b0249d88185414d",
   "execution_count": 53
  },
  {
   "cell_type": "code",
   "outputs": [],
   "source": [
    "\n",
    "# # Group by genre and calculate mean popularity\n",
    "# genre_popularity = data.groupby('track_genre')['popularity'].mean().reset_index()\n",
    "# \n",
    "# # Sort genres by popularity\n",
    "# sorted_genres = genre_popularity.sort_values(by='popularity', ascending=False)['track_genre']\n",
    "# \n",
    "# plt.figure(figsize=(12, 8))\n",
    "# plt.bar(x=genre_popularity['track_genre'], height=genre_popularity['popularity'], color='blue')\n",
    "# \n",
    "# plt.xlabel('Genre')\n",
    "# plt.ylabel('Mean Popularity')\n",
    "# plt.title('Mean Popularity of Popular Songs by Genre')\n",
    "# plt.xticks(rotation=90)\n",
    "# plt.tight_layout()\n",
    "# \n",
    "# plt.show()"
   ],
   "metadata": {
    "collapsed": false,
    "ExecuteTime": {
     "end_time": "2024-04-22T00:54:59.397517Z",
     "start_time": "2024-04-22T00:54:59.395867Z"
    }
   },
   "id": "7d087851edeb98ae",
   "execution_count": 46
  },
  {
   "cell_type": "markdown",
   "source": [
    "Why? Since our date was mixed and Numerica and we wanted to find out which machine learning algorithm would be best. We started with KNN since it work for data with both numerical and verifiable date.I needed to normalize the date because it was too noisy and imbalance and we couldn't train or the test the model with the regular date. Normalizing the data made it easier to train the KNN model and gives us an accuracy rate of 88%. The graph is there to help us find the best K value to use for KNN Model. it repeat the KNN modea 10 time and show me the accuracy for both train and test so I can choose the best KNN. And base on the result It's 4.  "
   ],
   "metadata": {
    "collapsed": false
   },
   "id": "c6db158175ebadcc"
  },
  {
   "cell_type": "code",
   "outputs": [
    {
     "name": "stdout",
     "output_type": "stream",
     "text": [
      "Normalize Accuracy: 0.8821052631578947\n",
      "Under-sampling_Accuracy: 0.6411670112566047\n",
      "Confusion Matrix:\n",
      "[[1566  628]\n",
      " [ 934 1225]]\n"
     ]
    }
   ],
   "source": [
    "\n",
    "# Assuming cleared_data contains your DataFrame with 'popularity' as the target variable\n",
    "# Separate the features and target variable\n",
    "X = data.drop(columns=['popularity'])\n",
    "y = data['popularity']\n",
    "\n",
    "# Split the data into training and testing sets\n",
    "X_train, X_test, y_train, y_test = train_test_split(X, y, test_size=0.2, random_state=3870)\n",
    "\n",
    "# Standardize the features by scaling them\n",
    "scaler = StandardScaler()\n",
    "scaler.fit(X_train)\n",
    "X_train_scaled = scaler.transform(X_train)\n",
    "X_test_scaled = scaler.transform(X_test)\n",
    "\n",
    "# Initialize the KNN classifier\n",
    "knn_classifier0 = KNeighborsClassifier(n_neighbors=4)\n",
    "\n",
    "# Train the classifier on the training data\n",
    "knn_classifier0.fit(X_train_scaled, y_train)\n",
    "\n",
    "# Predict the target variable for the test data\n",
    "y_pred_stand = knn_classifier0.predict(X_test_scaled)\n",
    "accuracy_stand = accuracy_score(y_test, y_pred_stand)\n",
    "print(\"Normalize Accuracy:\", accuracy_stand)\n",
    "\n",
    "from sklearn.utils import resample\n",
    "import numpy as np\n",
    "from sklearn.tree import plot_tree\n",
    "\n",
    "# Separate majority and minority classes\n",
    "majority_class = X_train[y_train == 0]\n",
    "minority_class = X_train[y_train == 1]\n",
    "\n",
    "# Downsample the majority class to match the number of instances in the minority class\n",
    "majority_downsampled = resample(majority_class, \n",
    "                                 replace=False,     # sample without replacement\n",
    "                                 n_samples=len(minority_class),    # match number in minority class\n",
    "                                 random_state=42)  # reproducible results\n",
    "\n",
    "\n",
    "# Combine the minority class with the downsampled majority class\n",
    "X_balanced = np.concatenate([majority_downsampled, minority_class])\n",
    "y_balanced = np.concatenate([np.zeros(len(majority_downsampled)), np.ones(len(minority_class))])\n",
    "\n",
    "\n",
    "# Split the data into training and testing sets\n",
    "X_train, X_test, y_train, y_test = train_test_split(X_balanced, y_balanced, test_size=0.2, random_state=3870)\n",
    "\n",
    "\n",
    "# Standardize the features by scaling them\n",
    "scaler = StandardScaler()\n",
    "scaler.fit(X_train)\n",
    "X_train_scaled = scaler.transform(X_train)\n",
    "X_test_scaled = scaler.transform(X_test)\n",
    "\n",
    "# Initialize the KNN classifier\n",
    "knn_classifier1 = KNeighborsClassifier(n_neighbors=4)\n",
    "\n",
    "# Train the classifier on the training data\n",
    "knn_classifier1.fit(X_train_scaled, y_train)\n",
    "\n",
    "# Predict the target variable for the test data\n",
    "y_pred = knn_classifier1.predict(X_test_scaled)\n",
    "\n",
    "# Calculate the accuracy of the model\n",
    "accuracy_under_sampling = accuracy_score(y_test, y_pred)\n",
    "print(\"Under-sampling_Accuracy:\", accuracy_under_sampling)\n",
    "\n",
    "# Create a confusion matrix\n",
    "conf_matrix = confusion_matrix(y_test, y_pred)\n",
    "\n",
    "# Print the confusion matrix\n",
    "print(\"Confusion Matrix:\")\n",
    "print(conf_matrix)\n"
   ],
   "metadata": {
    "collapsed": false,
    "ExecuteTime": {
     "end_time": "2024-04-22T00:55:05.694838Z",
     "start_time": "2024-04-22T00:55:01.087767Z"
    }
   },
   "id": "c1cc4fec8b82d1a4",
   "execution_count": 47
  },
  {
   "cell_type": "code",
   "outputs": [
    {
     "data": {
      "text/plain": "<Figure size 640x480 with 1 Axes>",
      "image/png": "[encoded data removed]"
     },
     "metadata": {},
     "output_type": "display_data"
    },
    {
     "data": {
      "text/plain": "(114000, 15)"
     },
     "execution_count": 51,
     "metadata": {},
     "output_type": "execute_result"
    }
   ],
   "source": [
    "plt.bar(['Normalized KNN', 'Under-sampling KNN'], [accuracy_stand, accuracy_under_sampling])\n",
    "plt.xlabel('Different test')\n",
    "plt.ylabel('Accuracy')\n",
    "plt.title('Comparison of Normalized and Under-sampling KNN')\n",
    "plt.ylim(0, 1)  # Set y-axis limit from 0 to 1 for accuracy\n",
    "plt.show()\n",
    "\n",
    "data.shape"
   ],
   "metadata": {
    "collapsed": false,
    "ExecuteTime": {
     "end_time": "2024-04-22T00:57:30.050313Z",
     "start_time": "2024-04-22T00:57:29.999691Z"
    }
   },
   "id": "7a86120da8e3ff6c",
   "execution_count": 51
  },
  {
   "cell_type": "code",
   "outputs": [
    {
     "data": {
      "text/plain": "<Figure size 640x480 with 1 Axes>",
      "image/png": "[encoded data removed]"
     },
     "metadata": {},
     "output_type": "display_data"
    },
    {
     "data": {
      "text/plain": "   Unnamed: 0  popularity  duration_ms  explicit  danceability  energy  \\\n0           0           1       230666         0         0.676  0.4610   \n1           1           0       149610         0         0.420  0.1660   \n2           2           0       210826         0         0.438  0.3590   \n3           3           1       201933         0         0.266  0.0596   \n4           4           1       198853         0         0.618  0.4430   \n\n   loudness  mode  speechiness  acousticness  instrumentalness  liveness  \\\n0    -6.746     0       0.1430        0.0322          0.000001    0.3580   \n1   -17.235     1       0.0763        0.9240          0.000006    0.1010   \n2    -9.734     1       0.0557        0.2100          0.000000    0.1170   \n3   -18.515     1       0.0363        0.9050          0.000071    0.1320   \n4    -9.681     1       0.0526        0.4690          0.000000    0.0829   \n\n   valence    tempo  time_signature  \n0    0.715   87.917               4  \n1    0.267   77.489               4  \n2    0.120   76.332               4  \n3    0.143  181.740               3  \n4    0.167  119.949               4  ",
      "text/html": "<div>\n<style scoped>\n    .dataframe tbody tr th:only-of-type {\n        vertical-align: middle;\n    }\n\n    .dataframe tbody tr th {\n        vertical-align: top;\n    }\n\n    .dataframe thead th {\n        text-align: right;\n    }\n</style>\n<table border=\"1\" class=\"dataframe\">\n  <thead>\n    <tr style=\"text-align: right;\">\n      <th></th>\n      <th>Unnamed: 0</th>\n      <th>popularity</th>\n      <th>duration_ms</th>\n      <th>explicit</th>\n      <th>danceability</th>\n      <th>energy</th>\n      <th>loudness</th>\n      <th>mode</th>\n      <th>speechiness</th>\n      <th>acousticness</th>\n      <th>instrumentalness</th>\n      <th>liveness</th>\n      <th>valence</th>\n      <th>tempo</th>\n      <th>time_signature</th>\n    </tr>\n  </thead>\n  <tbody>\n    <tr>\n      <th>0</th>\n      <td>0</td>\n      <td>1</td>\n      <td>230666</td>\n      <td>0</td>\n      <td>0.676</td>\n      <td>0.4610</td>\n      <td>-6.746</td>\n      <td>0</td>\n      <td>0.1430</td>\n      <td>0.0322</td>\n      <td>0.000001</td>\n      <td>0.3580</td>\n      <td>0.715</td>\n      <td>87.917</td>\n      <td>4</td>\n    </tr>\n    <tr>\n      <th>1</th>\n      <td>1</td>\n      <td>0</td>\n      <td>149610</td>\n      <td>0</td>\n      <td>0.420</td>\n      <td>0.1660</td>\n      <td>-17.235</td>\n      <td>1</td>\n      <td>0.0763</td>\n      <td>0.9240</td>\n      <td>0.000006</td>\n      <td>0.1010</td>\n      <td>0.267</td>\n      <td>77.489</td>\n      <td>4</td>\n    </tr>\n    <tr>\n      <th>2</th>\n      <td>2</td>\n      <td>0</td>\n      <td>210826</td>\n      <td>0</td>\n      <td>0.438</td>\n      <td>0.3590</td>\n      <td>-9.734</td>\n      <td>1</td>\n      <td>0.0557</td>\n      <td>0.2100</td>\n      <td>0.000000</td>\n      <td>0.1170</td>\n      <td>0.120</td>\n      <td>76.332</td>\n      <td>4</td>\n    </tr>\n    <tr>\n      <th>3</th>\n      <td>3</td>\n      <td>1</td>\n      <td>201933</td>\n      <td>0</td>\n      <td>0.266</td>\n      <td>0.0596</td>\n      <td>-18.515</td>\n      <td>1</td>\n      <td>0.0363</td>\n      <td>0.9050</td>\n      <td>0.000071</td>\n      <td>0.1320</td>\n      <td>0.143</td>\n      <td>181.740</td>\n      <td>3</td>\n    </tr>\n    <tr>\n      <th>4</th>\n      <td>4</td>\n      <td>1</td>\n      <td>198853</td>\n      <td>0</td>\n      <td>0.618</td>\n      <td>0.4430</td>\n      <td>-9.681</td>\n      <td>1</td>\n      <td>0.0526</td>\n      <td>0.4690</td>\n      <td>0.000000</td>\n      <td>0.0829</td>\n      <td>0.167</td>\n      <td>119.949</td>\n      <td>4</td>\n    </tr>\n  </tbody>\n</table>\n</div>"
     },
     "execution_count": 49,
     "metadata": {},
     "output_type": "execute_result"
    }
   ],
   "source": [
    "# Range of k values to try\n",
    "warning.filterwarnings('ignore')\n",
    "k_values = range(1, 10)\n",
    "\n",
    "# Dictionary to store mean accuracy scores for each k\n",
    "\n",
    "train_accuracies = []\n",
    "test_accuracies = []\n",
    "\n",
    "# Iterate over each k value\n",
    "for k in k_values:\n",
    "    # Create a KNN classifier with the current k value\n",
    "    knn = KNeighborsClassifier(n_neighbors=k)\n",
    "    knn.fit(X_train_scaled, y_train)\n",
    "    train_accuracies.append(knn.score(X_train_scaled, y_train))\n",
    "    test_accuracies.append(knn.score(X_test_scaled, y_test))\n",
    "\n",
    "\n",
    "# Plotting the results\n",
    "plt.plot(k_values, train_accuracies, label='Train accuracy')\n",
    "plt.plot(k_values, test_accuracies, label='Test accuracy')\n",
    "plt.xlabel(\"K value\")\n",
    "plt.ylabel(\"Accuracy\")\n",
    "plt.title(\"Which K-value is the best?\")\n",
    "plt.legend()\n",
    "plt.grid(True)\n",
    "plt.show()\n",
    "\n"
   ],
   "metadata": {
    "collapsed": false,
    "ExecuteTime": {
     "end_time": "2024-04-22T00:55:23.801942Z",
     "start_time": "2024-04-22T00:55:08.421086Z"
    }
   },
   "id": "f57b42631e5632c3",
   "execution_count": 49
  },
  {
   "cell_type": "markdown",
   "source": [
    "When predicting a popularity there are multiply variables that needed to consider so I used the tree model to predict the target variable. Both the tree models have pretty accuracy rate compare to KKN.  Also it show the number need to each variable for a song to be consider popular with 0 entropy. "
   ],
   "metadata": {
    "collapsed": false
   },
   "id": "7c2f9f668998c8d9"
  },
  {
   "cell_type": "code",
   "outputs": [
    {
     "ename": "NameError",
     "evalue": "name 'X_train' is not defined",
     "output_type": "error",
     "traceback": [
      "\u001B[0;31m---------------------------------------------------------------------------\u001B[0m",
      "\u001B[0;31mNameError\u001B[0m                                 Traceback (most recent call last)",
      "Cell \u001B[0;32mIn[9], line 3\u001B[0m\n\u001B[1;32m      1\u001B[0m \u001B[38;5;66;03m# Create and train the Decision Tree model\u001B[39;00m\n\u001B[1;32m      2\u001B[0m tree \u001B[38;5;241m=\u001B[39m DecisionTreeClassifier(criterion\u001B[38;5;241m=\u001B[39m\u001B[38;5;124m'\u001B[39m\u001B[38;5;124mentropy\u001B[39m\u001B[38;5;124m'\u001B[39m,max_depth\u001B[38;5;241m=\u001B[39m\u001B[38;5;241m5\u001B[39m, random_state\u001B[38;5;241m=\u001B[39m\u001B[38;5;241m3780\u001B[39m)\n\u001B[0;32m----> 3\u001B[0m tree\u001B[38;5;241m.\u001B[39mfit(X_train, y_train)\n\u001B[1;32m      5\u001B[0m \u001B[38;5;66;03m# Create and train the Random Forest model\u001B[39;00m\n\u001B[1;32m      6\u001B[0m forest \u001B[38;5;241m=\u001B[39m RandomForestClassifier(n_estimators\u001B[38;5;241m=\u001B[39m\u001B[38;5;241m10\u001B[39m, criterion\u001B[38;5;241m=\u001B[39m\u001B[38;5;124m'\u001B[39m\u001B[38;5;124mentropy\u001B[39m\u001B[38;5;124m'\u001B[39m, random_state\u001B[38;5;241m=\u001B[39m\u001B[38;5;241m3780\u001B[39m)\n",
      "\u001B[0;31mNameError\u001B[0m: name 'X_train' is not defined"
     ]
    }
   ],
   "source": [
    "# Create and train the Decision Tree model\n",
    "tree = DecisionTreeClassifier(criterion='entropy',max_depth=5, random_state=3780)\n",
    "tree.fit(X_train, y_train)\n",
    "\n",
    "# Create and train the Random Forest model\n",
    "forest = RandomForestClassifier(n_estimators=10, criterion='entropy', random_state=3780)\n",
    "forest.fit(X_train, y_train)\n",
    "\n",
    "# Evaluate the models\n",
    "print(\"Forest Accuracy:\", forest.score(X_test, y_test))  # Use X_test and y_test here\n",
    "print(\"Tree Accuracy:\", tree.score(X_test, y_test))  # Use X_test and y_test here"
   ],
   "metadata": {
    "collapsed": false,
    "ExecuteTime": {
     "end_time": "2024-04-19T21:16:49.531143Z",
     "start_time": "2024-04-19T21:16:49.522588Z"
    }
   },
   "id": "4735cbeabd33f219",
   "execution_count": 9
  },
  {
   "cell_type": "code",
   "outputs": [],
   "source": [
    "from sklearn.tree import plot_tree\n",
    "\n",
    "# Plot the decision tree\n",
    "plt.figure(figsize=(50,10))\n",
    "plot_tree(tree, filled=True, feature_names=X.columns, class_names=['Not Popular', 'Popular'], fontsize=10)\n",
    "plt.show()"
   ],
   "metadata": {
    "collapsed": false,
    "ExecuteTime": {
     "end_time": "2024-04-19T04:33:17.392869Z",
     "start_time": "2024-04-19T04:33:17.389481Z"
    }
   },
   "id": "629af3fd8f90b6b9",
   "execution_count": null
  },
  {
   "cell_type": "markdown",
   "source": [
    "As the subpart of our hypothesis, we wanted to know which variable was important in determining the popularity of a song. So Given the forest modal has the higest accuracy. we decided to look into what features were important that the algorithm use to predict the popularity. AS show by the gaphs there seems be lot of feture that determine the popularity of a song."
   ],
   "metadata": {
    "collapsed": false
   },
   "id": "2e3b54898ed642a8"
  },
  {
   "cell_type": "code",
   "outputs": [
    {
     "name": "stdout",
     "output_type": "stream",
     "text": [
      "Accuracy: 0.7365035607626924\n"
     ]
    },
    {
     "ename": "AttributeError",
     "evalue": "'KNeighborsClassifier' object has no attribute 'feature_importances_'",
     "output_type": "error",
     "traceback": [
      "\u001B[0;31m---------------------------------------------------------------------------\u001B[0m",
      "\u001B[0;31mAttributeError\u001B[0m                            Traceback (most recent call last)",
      "Cell \u001B[0;32mIn[29], line 28\u001B[0m\n\u001B[1;32m      9\u001B[0m \u001B[38;5;28mprint\u001B[39m(\u001B[38;5;124m\"\u001B[39m\u001B[38;5;124mAccuracy:\u001B[39m\u001B[38;5;124m\"\u001B[39m, accuracy)\n\u001B[1;32m     12\u001B[0m \u001B[38;5;66;03m# # Predict the labels for the test data\u001B[39;00m\n\u001B[1;32m     13\u001B[0m \u001B[38;5;66;03m# y_pred = forest.predict(X_test_scaled)\u001B[39;00m\n\u001B[1;32m     14\u001B[0m \u001B[38;5;66;03m# \u001B[39;00m\n\u001B[0;32m   (...)\u001B[0m\n\u001B[1;32m     26\u001B[0m \n\u001B[1;32m     27\u001B[0m \u001B[38;5;66;03m# Get feature importances\u001B[39;00m\n\u001B[0;32m---> 28\u001B[0m importances \u001B[38;5;241m=\u001B[39m knn_classifier0\u001B[38;5;241m.\u001B[39mfeature_importances_\n\u001B[1;32m     30\u001B[0m \u001B[38;5;66;03m# Sort feature importances in descending order\u001B[39;00m\n\u001B[1;32m     31\u001B[0m indices \u001B[38;5;241m=\u001B[39m np\u001B[38;5;241m.\u001B[39margsort(importances)[::\u001B[38;5;241m-\u001B[39m\u001B[38;5;241m1\u001B[39m]\n",
      "\u001B[0;31mAttributeError\u001B[0m: 'KNeighborsClassifier' object has no attribute 'feature_importances_'"
     ]
    }
   ],
   "source": [
    "import numpy as np\n",
    "\n",
    "# Train the Random Forest classifier\n",
    "forest = RandomForestClassifier(n_estimators=10, criterion='entropy', random_state=42)\n",
    "forest.fit(X_train, y_train)\n",
    "\n",
    "# Evaluate the model on the test data\n",
    "accuracy = forest.score(X_test, y_test)\n",
    "print(\"Accuracy:\", accuracy)\n",
    "\n",
    "\n",
    "# # Predict the labels for the test data\n",
    "# y_pred = forest.predict(X_test_scaled)\n",
    "# \n",
    "# # Calculate the confusion matrix\n",
    "# cm = confusion_matrix(y_test, y_pred)\n",
    "# print(\"Confusion Matrix:\")\n",
    "# print(cm)\n",
    "# \n",
    "# # Calculate additional metrics if needed\n",
    "# # For example, you can calculate accuracy using accuracy_score\n",
    "# accuracy = accuracy_score(y_test, y_pred)\n",
    "# print(\"Accuracy:\", accuracy)\n",
    "\n",
    "\n",
    "\n",
    "# Get feature importances\n",
    "importances = forest.feature_importances_\n",
    "\n",
    "# Sort feature importances in descending order\n",
    "indices = np.argsort(importances)[::-1]\n",
    "\n",
    "# Print feature ranking\n",
    "print(\"Feature ranking:\")\n",
    "for f in range(X_train_scaled.shape[1]):\n",
    "    feature_index = indices[f]\n",
    "    feature_name = X_train.columns[feature_index]\n",
    "    print(f\"{f + 1}. Feature '{feature_name}' ({importances[feature_index]})\")\n",
    "\n",
    "\n",
    "# Plot feature importances\n",
    "plt.figure(figsize=(10, 6))\n",
    "plt.bar(range(X_train_scaled.shape[1]), importances[indices], align='center')\n",
    "plt.xticks(range(X_train_scaled.shape[1]), X_train.columns[indices], rotation=90)\n",
    "plt.xlabel('Feature')\n",
    "plt.ylabel('Importance Score')\n",
    "plt.title('Feature Importances')\n",
    "plt.tight_layout()\n",
    "plt.show()"
   ],
   "metadata": {
    "collapsed": false,
    "ExecuteTime": {
     "end_time": "2024-04-21T23:24:41.946015Z",
     "start_time": "2024-04-21T23:24:41.525888Z"
    }
   },
   "id": "de1ea4694e34a761",
   "execution_count": 29
  },
  {
   "cell_type": "code",
   "outputs": [
    {
     "name": "stdout",
     "output_type": "stream",
     "text": [
      "Creating Classifiers...\n",
      "Training classifiers...\n"
     ]
    },
    {
     "ename": "NameError",
     "evalue": "name 'X_train' is not defined",
     "output_type": "error",
     "traceback": [
      "\u001B[0;31m---------------------------------------------------------------------------\u001B[0m",
      "\u001B[0;31mNameError\u001B[0m                                 Traceback (most recent call last)",
      "Cell \u001B[0;32mIn[10], line 28\u001B[0m\n\u001B[1;32m     24\u001B[0m \u001B[38;5;28;01mfor\u001B[39;00m _ \u001B[38;5;129;01min\u001B[39;00m \u001B[38;5;28mrange\u001B[39m(\u001B[38;5;241m9\u001B[39m):\n\u001B[1;32m     25\u001B[0m \n\u001B[1;32m     26\u001B[0m     \u001B[38;5;66;03m# Train the classifiers\u001B[39;00m\n\u001B[1;32m     27\u001B[0m     \u001B[38;5;28mprint\u001B[39m(\u001B[38;5;124m\"\u001B[39m\u001B[38;5;124mTraining classifiers...\u001B[39m\u001B[38;5;124m\"\u001B[39m)\n\u001B[0;32m---> 28\u001B[0m     svm_classifier_linear\u001B[38;5;241m.\u001B[39mfit(X_train, y_train)\n\u001B[1;32m     29\u001B[0m     svm_classifier_sgd\u001B[38;5;241m.\u001B[39mfit(X_train, y_train)\n\u001B[1;32m     30\u001B[0m     svm_classifier_poly\u001B[38;5;241m.\u001B[39mfit(X_train, y_train)\n",
      "\u001B[0;31mNameError\u001B[0m: name 'X_train' is not defined"
     ]
    }
   ],
   "source": [
    "'''THIS DOES NOT WORK DON\"T TRY RUNNING THIS IT WILL JUST SLOW YOU DOWN'''\n",
    "\n",
    "from sklearn.linear_model import SGDClassifier\n",
    "from sklearn.svm import SVC\n",
    "\n",
    "\n",
    "# Finding average accuracy values of each model, comparing the models\n",
    "accuracies_linear = []\n",
    "accuracies_sgd = []\n",
    "accuracies_poly = []\n",
    "accuracies_sigmoid = []\n",
    "accuracies_rbf = []\n",
    "\n",
    "# Create SVM classifier with soft-margin (C=1)\n",
    "# Measure differences in SVM Accuracy by kernel\n",
    "print(\"Creating Classifiers...\")\n",
    "svm_classifier_linear = SVC(kernel='linear', degree=3, C=1)\n",
    "svm_classifier_sgd = SGDClassifier(max_iter=2500)\n",
    "svm_classifier_poly = SVC(kernel='poly', degree=3, C=1)\n",
    "svm_classifier_sigmoid = SVC(kernel='sigmoid', degree=3, C=1)\n",
    "svm_classifier_rbf = SVC(degree=3, C=1)\n",
    "\n",
    "# Process the data through each of these five models 10 times to calculate the true accuracy of the model\n",
    "for _ in range(9):\n",
    "\n",
    "    # Train the classifiers\n",
    "    print(\"Training classifiers...\")\n",
    "    svm_classifier_linear.fit(X_train, y_train)\n",
    "    svm_classifier_sgd.fit(X_train, y_train)\n",
    "    svm_classifier_poly.fit(X_train, y_train)\n",
    "    svm_classifier_sigmoid.fit(X_train, y_train)\n",
    "    svm_classifier_rbf.fit(X_train, y_train)\n",
    "\n",
    "    # Make predictions on test data\n",
    "    print(\"Classifying unseen data based on trained classifiers...\")\n",
    "    y_pred_linear = svm_classifier_linear.predict(X_test)\n",
    "    y_pred_sdg = svm_classifier_sgd.predict(X_test)\n",
    "    y_pred_poly = svm_classifier_poly.predict(X_test)\n",
    "    y_pred_sigmoid = svm_classifier_sigmoid.predict(X_test)\n",
    "    y_pred_rbf = svm_classifier_rbf.predict(X_test)\n",
    "\n",
    "    # Calculate accuracy of each model\n",
    "    print(\"Processing the accuracy of each classifier, compared to actual data values...\")\n",
    "    accuracies_linear.append(accuracy_score(y_test, y_pred_linear))\n",
    "    accuracies_sgd.append(accuracy_score(y_test, y_pred_sdg))\n",
    "    accuracies_poly.append(accuracy_score(y_test, y_pred_poly))\n",
    "    accuracies_sigmoid.append(accuracy_score(y_test, y_pred_sigmoid))\n",
    "    accuracies_rbf.append(accuracy_score(y_test, y_pred_rbf))\n",
    "\n",
    "\n",
    "\n"
   ],
   "metadata": {
    "collapsed": false,
    "ExecuteTime": {
     "end_time": "2024-04-19T21:17:17.426761Z",
     "start_time": "2024-04-19T21:17:17.415752Z"
    }
   },
   "id": "8967904bc7761d8",
   "execution_count": 10
  },
  {
   "cell_type": "markdown",
   "source": [
    "As SAM recomanded I was trying to underscore the forest model for better accuracy. SAM You might want to LOOK at this more. "
   ],
   "metadata": {
    "collapsed": false
   },
   "id": "4be44e208dcd5ccd"
  },
  {
   "cell_type": "code",
   "outputs": [
    {
     "ename": "NameError",
     "evalue": "name 'X_train' is not defined",
     "output_type": "error",
     "traceback": [
      "\u001B[0;31m---------------------------------------------------------------------------\u001B[0m",
      "\u001B[0;31mNameError\u001B[0m                                 Traceback (most recent call last)",
      "Cell \u001B[0;32mIn[1], line 6\u001B[0m\n\u001B[1;32m      3\u001B[0m \u001B[38;5;28;01mfrom\u001B[39;00m \u001B[38;5;21;01msklearn\u001B[39;00m\u001B[38;5;21;01m.\u001B[39;00m\u001B[38;5;21;01mtree\u001B[39;00m \u001B[38;5;28;01mimport\u001B[39;00m plot_tree\n\u001B[1;32m      5\u001B[0m \u001B[38;5;66;03m# Separate majority and minority classes\u001B[39;00m\n\u001B[0;32m----> 6\u001B[0m majority_class \u001B[38;5;241m=\u001B[39m X_train[y_train \u001B[38;5;241m==\u001B[39m \u001B[38;5;241m0\u001B[39m]\n\u001B[1;32m      7\u001B[0m minority_class \u001B[38;5;241m=\u001B[39m X_train[y_train \u001B[38;5;241m==\u001B[39m \u001B[38;5;241m1\u001B[39m]\n\u001B[1;32m      9\u001B[0m \u001B[38;5;66;03m# Downsample the majority class to match the number of instances in the minority class\u001B[39;00m\n",
      "\u001B[0;31mNameError\u001B[0m: name 'X_train' is not defined"
     ]
    }
   ],
   "source": [
    "\n"
   ],
   "metadata": {
    "collapsed": false,
    "ExecuteTime": {
     "end_time": "2024-04-19T20:18:58.066332Z",
     "start_time": "2024-04-19T20:18:57.481487Z"
    }
   },
   "id": "4e3c732e7d4d91cf",
   "execution_count": 1
  },
  {
   "cell_type": "code",
   "outputs": [],
   "source": [],
   "metadata": {
    "collapsed": false
   },
   "id": "40587cefdbd8b3ee"
  }
 ],
 "metadata": {
  "kernelspec": {
   "display_name": "Python 3",
   "language": "python",
   "name": "python3"
  },
  "language_info": {
   "codemirror_mode": {
    "name": "ipython",
    "version": 2
   },
   "file_extension": ".py",
   "mimetype": "text/x-python",
   "name": "python",
   "nbconvert_exporter": "python",
   "pygments_lexer": "ipython2",
   "version": "2.7.6"
  }
 },
 "nbformat": 4,
 "nbformat_minor": 5
}
