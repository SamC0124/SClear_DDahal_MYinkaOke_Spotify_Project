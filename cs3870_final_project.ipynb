{
 "cells": [
  {
   "cell_type": "code",
   "execution_count": 1,
   "id": "initial_id",
   "metadata": {
    "collapsed": true,
    "ExecuteTime": {
     "end_time": "2024-04-02T16:22:59.695294Z",
     "start_time": "2024-04-02T16:22:58.582409Z"
    }
   },
   "outputs": [],
   "source": [
    "import math\n",
    "import matplotlib.pyplot as plt\n",
    "import numpy as np\n",
    "import os\n",
    "import pandas as pd\n",
    "import seaborn as sns\n",
    "import string\n",
    "import sklearn as sk\n",
    "from sklearn.linear_model import LinearRegression\n",
    "from sklearn.ensemble import RandomForestClassifier\n",
    "from sklearn.cluster import KMeans\n",
    "from sklearn.neighbors import KNeighborsClassifier\n",
    "from sklearn.model_selection import cross_val_predict, train_test_split\n",
    "from sklearn.metrics import confusion_matrix, accuracy_score, ConfusionMatrixDisplay\n",
    "from sklearn.datasets import load_iris\n",
    "from sklearn import tree\n",
    "import time\n"
   ]
  },
  {
   "cell_type": "markdown",
   "source": [
    "# Project Idea\n",
    "### What features are the most significant to classify popularity for the most famous,highly-streamed songs (ranked by popularity) on Spotify?\n",
    "\n",
    "# Project Pitch:\n",
    "What makes the next biggest song a hit? There have been countless observations and trends given over the years by researchers and reporters alike for the changing of music, such as popular songs in the past 30 years decreasing in the number of male singers and happy songs, followed by an increase in sad, relaxed, and danceable songs to reach the Top 100 list from the Official Charts Company in the UK (Interiano et al, 2018). According to ratings from pieces from the US Billboard Top 100, aggressive percussive backing tracks and bright-toned music have declined over the past 10 years, while energetic guitar-based music has increased over the past 20 years and continues to increase (Mauch et al, 2015). Each of these aspects of music over the years have been fundamental to distinguishing which genre different songs fit into, but different genres of music evolve and morph into different subgenres, fitting in with the times and contrasting with them. But what trends might we see in popularity if we remove songs and pieces from their respective genres, instead grouping them based on their danceability and tone? What underlying features can we identify as the most impactful in terms of popularity for the most popular music streaming app on the market, Spotify?"
   ],
   "metadata": {
    "collapsed": false
   },
   "id": "50ebefa26ebfbab"
  },
  {
   "cell_type": "markdown",
   "source": [
    "# Prior Research: \n",
    "\n",
    "Music has been studied by many different sources and fields of study over the past 50 years, with people asking after the rise of new trends and musicians what makes them so popular. Each of these research papers contributed to by Mauch (2015), Interiano (2018), and their colleagues investigate the patterns in changes of tone and energy in different pieces, as well as certain aspects of the pieces that sold the most copies. The paper from Mauch on song trends in the US is majorly based on audio features interpreted from lyrics, pitch, and rhythm, rather than scores given by fans on a website, like for the paper from Interiano. Mauch’s report also includes linear trend and clustering models similar to the models we plan to use, but without the machine learning implements we plan to employ. Interiano’s paper applies Linear Regression and Random Forest classification models to determine the relationships between different features and popularity. \n",
    "Additionally, there have been many different research documents focused on predicting the popularity of songs based on data collected by Spotify. To name a few research projects based on this data on Kaggle, there is the “Popularity Prediction XGBoost & Regression Analysis” notebook from Hossein Faridnasr, which evaluates the XGBoost prediction model for its effectivity on predicting the popularity of songs hidden in the test set. However, similar to other Notebooks present for this specific dataset, there isn’t a large amount of correlation between each of the features present in correlation matrices for the data, except the following feature pairings: acoustics, energy, and loudness; danceability and valance (Faridnasr, 2023). This indicates that reducing the dimensionality of the data, if not possible with Principal Component Analysis, K-means clustering, or another form of unsupervised learning to narrow down the features, may require some clever feature engineering to evaluate relationships in song popularity.\n",
    "Our current research into past projects of Spotify song popularity is sparse, but we plan to expand this knowledge base as we continue inspecting the data and exploring different possible models we can use to collect our results. \n"
   ],
   "metadata": {
    "collapsed": false
   },
   "id": "66b401d4aa8f918f"
  },
  {
   "cell_type": "markdown",
   "source": [
    "# About the data:\n",
    "This is a dataset of Spotify tracks over a range of 125 different genres. Each track has some audio features associated with the song, such as its duration in milliseconds, tempo in beats-per-minute, and liveness from 0 to 1. More features are listed below.\n",
    "\n",
    "**Feature Description, Data Collection, Cleaning, and Exploration Plan:**\n",
    "`track_id:` The Spotify ID for the track (song on an album)\n",
    "`artists:` The artists' names who performed the track. If there is more than one artist, they are separated by a “;” symbol\n",
    "`album_name:` The album name in which the track appears\n",
    "`track_name:` Name of the track\n",
    "`popularity:` A track's popularity is between 0 and 100, with 100 being the most popular. The popularity is calculated by algorithm and is based, for the most part, on the total number of plays the track has had and how recent those plays are. Generally speaking, songs that are being played a lot now will have a higher popularity than songs that were played a lot in the past. Duplicate tracks (e.g. the same track from a single and an album) are rated independently. Artist and album popularity is derived mathematically from track popularity.\n",
    "`duration_ms:` The track length in milliseconds\n",
    "`explicit:` Whether or not the track has explicit lyrics (true = yes it does; false = no it does not OR unknown)\n",
    "`danceability:` Danceability describes how suitable a track is for dancing based on a combination of musical elements including tempo, rhythm stability, beat strength, and overall regularity. A value of 0.0 is the least danceable and 1.0 is the most danceable\n",
    "`energy:` Energy is a measure from 0.0 to 1.0 and represents a perceptual measure of intensity and activity. Typically, energetic tracks feel fast, loud, and noisy. For example, death metal has high energy, while a Bach prelude scores low on the scale\n",
    "`key:` The key the track is in. Integers map to pitches using standard Pitch Class notation. E.g. 0 = C, 1 = C♯/D♭, 2 = D, and so on. If no key was detected, the value is -1\n",
    "`loudness:` The overall loudness of a track in decibels (dB)\n",
    "`mode:` Mode indicates the modality (major or minor) of a track, the type of scale from which its melodic content is derived. Major is represented by 1 and minor is 0\n",
    "`speechiness:` Speechiness detects the presence of spoken words in a track. The more exclusively speech-like the recording (e.g. talk show, audiobook, poetry), the closer to 1.0 the attribute value. Values above 0.66 describe tracks that are probably made entirely of spoken words. Values between 0.33 and 0.66 describe tracks that may contain music and speech, either in sections or layered, including such cases as rap music. Values below 0.33 most likely represent music and other non-speech-like tracks\n",
    "`acousticness:` A confidence measure from 0.0 to 1.0 of whether the track is acoustic. 1.0 represents high confidence the track is acoustic\n",
    "`instrumentalness:` Predicts whether a track contains no vocals. \"Ooh\" and \"aah\" sounds are treated as instrumental in this context. Rap or spoken word tracks are clearly \"vocal\". The closer the instrumentals value is to 1.0, the greater the likelihood the track contains no vocal content\n",
    "`liveness:` Detects the presence of an audience in the recording. Higher liveness values represent an increased probability that the track was performed live. A value above 0.8 provides a strong likelihood that the track is live\n",
    "`valence:` A measure from 0.0 to 1.0 describes the musical positiveness conveyed by a track. Tracks with high valence sound more positive (e.g. happy, cheerful, euphoric), while tracks with low valence sound more negative (e.g. sad, depressed, angry)\n",
    "`tempo:` The overall estimated tempo of a track in beats per minute (BPM). In musical terminology, tempo is the speed or pace of a given piece and derives directly from the average beat duration\n",
    "`time_signature:` An estimated time signature. The time signature (meter) is a notational convention to specify how many beats are in each bar (or measure). The time signature ranges from 3 to 7 indicating time signatures of 3/4, to 7/4\n",
    "`track_genre:` The genre in which the track belongs"
   ],
   "metadata": {
    "collapsed": false
   },
   "id": "461758f8dcf0e2b5"
  },
  {
   "cell_type": "markdown",
   "source": [
    "# Data Clearing\n",
    "\n",
    "**Why?** \n",
    "We consider a song is popular if it's popularity determined by the number of time it was played is greater than 75, also if we want we can increase the number of popularity for better accuracy.\n",
    "\n",
    "We have way too many data so we were not worried about not having enough data to work with so remove all the row that had enpty date. "
   ],
   "metadata": {
    "collapsed": false
   },
   "id": "30e257a9e1af2b8"
  },
  {
   "cell_type": "code",
   "outputs": [],
   "source": [
    "# Load data and drop unnecessary columns and rows with null values\n",
    "data = pd.read_csv('data/song_data.csv').drop(columns=['track_id', 'key']).dropna(how='any')\n",
    "\n",
    "# Remove duplicates based on track name\n",
    "data = data.drop_duplicates(subset=['track_name'])\n",
    "\n",
    "# Convert milliseconds to seconds\n",
    "data['duration_s'] = data['duration_ms'] / 1000\n",
    "#data.drop(columns=['milliseconds'], inplace=True) # drops the old column\n",
    "\n",
    "# Filter data with \"popularity\" greater than 75\n",
    "data = data[data['popularity'] > 75]\n"
   ],
   "metadata": {
    "collapsed": false,
    "ExecuteTime": {
     "end_time": "2024-04-02T17:16:01.172060Z",
     "start_time": "2024-04-02T17:16:00.979438Z"
    }
   },
   "id": "699ec4c0593564cb",
   "execution_count": 2
  },
  {
   "cell_type": "markdown",
   "source": [
    "# More cleaning \n"
   ],
   "metadata": {
    "collapsed": false
   },
   "id": "7a3065a814d0372f"
  },
  {
   "cell_type": "code",
   "outputs": [],
   "source": [
    "'''using the average we can make model like linear regression, decision tree, or forest'''\n",
    "\n",
    "cleared_data = pd.read_csv('data/song_data.csv').drop(columns=['track_id', 'key']).dropna(how='any')\n",
    "\n",
    "# Assuming 'popularity' column contains numerical values\n",
    "cleared_data['popularity'] = cleared_data['popularity'].apply(lambda x: 1 if x > 75 else 0)\n",
    "\n",
    "# Convert True to 1 and False to 0 in the \"popularity\" column\n",
    "cleared_data['explicit'] = cleared_data['explicit'].astype(int)\n",
    "\n",
    "# Remove duplicates based on track name\n",
    "cleared_data = cleared_data.drop_duplicates(subset=['track_name'])\n",
    "\n",
    "# Convert milliseconds to seconds\n",
    "cleared_data['duration_s'] = cleared_data['duration_ms'] / 1000\n",
    "\n",
    "# List of columns you want to keep\n",
    "columns_data = ['popularity', 'duration_s', 'explicit', 'danceability', 'energy', 'loudness', 'speechiness',\n",
    "                   'acousticness', 'instrumentalness', 'liveness', 'valence', 'tempo']\n",
    "\n",
    "# Filtering columns\n",
    "\n",
    "cleared_data = cleared_data[columns_data]\n"
   ],
   "metadata": {
    "collapsed": false
   },
   "id": "6accf0469ad1be26"
  },
  {
   "cell_type": "markdown",
   "source": [
    "# Data understanding\n",
    "\n",
    "We made graphs to look at diffrent relationship between the date for better understanding. "
   ],
   "metadata": {
    "collapsed": false
   },
   "id": "67495ef4ddced40"
  },
  {
   "cell_type": "code",
   "outputs": [],
   "source": [],
   "metadata": {
    "collapsed": false
   },
   "id": "1b73f75ebc8bd5a2"
  },
  {
   "cell_type": "markdown",
   "source": [
    "## KKN Modal "
   ],
   "metadata": {
    "collapsed": false
   },
   "id": "ba33f049dd85949a"
  },
  {
   "cell_type": "code",
   "outputs": [],
   "source": [
    "long_data = pd.melt(cleared_data, id_vars=['popularity'], var_name='feature', value_name='value')\n",
    "\n",
    "# Calculate the mean for each feature and popularity\n",
    "means = long_data.groupby(['feature', 'popularity'])['value'].mean().reset_index()\n",
    "\n",
    "# Reshape the data back to wide format\n",
    "wide_means = means.pivot(index='feature', columns='popularity', values='value')\n",
    "\n",
    "# Print the result\n",
    "print(wide_means)\n",
    "\n",
    "# Select numeric columns\n",
    "numeric_cols = cleared_data.select_dtypes(include='number')\n",
    "\n",
    "# Min-max normalization\n",
    "pop_norm = (numeric_cols - numeric_cols.min()) / (numeric_cols.max() - numeric_cols.min())\n",
    "\n",
    "# Standardization\n",
    "pop_stan = (numeric_cols - numeric_cols.mean()) / numeric_cols.std()\n",
    "\n",
    "# Create knn_results DataFrame\n",
    "knn_results = pd.DataFrame({\n",
    "    'k': range(1, 6),\n",
    "    'pop_norm': [-1] * 5,\n",
    "    'pop_stan': [-1] * 5\n",
    "})\n",
    "\n",
    "# Displaying the knn_results DataFrame\n",
    "#print(knn_results)\n",
    "\n",
    "# Convert 'pop_norm' and 'pop_stan' columns to float64\n",
    "knn_results['pop_norm'] = knn_results['pop_norm'].astype(float)\n",
    "knn_results['pop_stan'] = knn_results['pop_stan'].astype(float)\n",
    "\n",
    "# Fit KNN Algorithm for normalized data\n",
    "for i in range(len(knn_results)):\n",
    "    knn = KNeighborsClassifier(n_neighbors=knn_results.loc[i, 'k'])\n",
    "    loop_knn = cross_val_predict(knn, pop_norm, cleared_data['popularity'], cv=5)\n",
    "    loop_norm_cm = confusion_matrix(loop_knn, cleared_data['popularity'])\n",
    "    accuracy = round(accuracy_score(loop_knn, cleared_data['popularity']), 2)\n",
    "    #print(f\"Accuracy for k={knn_results.loc[i, 'k']} with normalized data: {accuracy}\")  # Debugging print\n",
    "    knn_results.loc[i, 'pop_norm'] = accuracy\n",
    "\n",
    "    # Fit KNN Algorithm for standardized data\n",
    "    knn = KNeighborsClassifier(n_neighbors=knn_results.loc[i, 'k'])\n",
    "    loop_knn2 = cross_val_predict(knn, pop_stan, cleared_data['popularity'], cv=5)\n",
    "    accuracy2 = round(accuracy_score(loop_knn2, cleared_data['popularity']), 2)\n",
    "    #print(f\"Accuracy for k={knn_results.loc[i, 'k']} with standardized data: {accuracy2}\")  # Debugging print\n",
    "    knn_results.loc[i, 'pop_stan'] = accuracy2\n",
    "\n",
    "# Displaying the first 10 rows of knn_results DataFrame\n",
    "# print(knn_results.head(10))\n",
    "\n",
    "# long_knn_results = knn_results.melt(id_vars='k', var_name='rescale_method', value_name='accuracy')\n",
    "#\n",
    "# # Create the plot\n",
    "# plt.figure(figsize=(10, 6))\n",
    "# sns.lineplot(data=long_knn_results, x='k', y='accuracy', hue='rescale_method')\n",
    "#\n",
    "# # Set labels and title\n",
    "# plt.xlabel('Choice of K')\n",
    "# plt.ylabel('Accuracy')\n",
    "# plt.title('KNN Algorithm Performance')\n",
    "# plt.legend(title='Rescale Method', labels=['Normalized', 'Standardized'])\n",
    "#\n",
    "# # Set scale for x-axis and y-axis\n",
    "# plt.xticks(range(1, 6))\n",
    "# plt.yticks(np.arange(0.95, 1.0, 0.01), labels=[f'{i:.2f}%' for i in np.arange(0.95, 1.0, 0.01)])\n",
    "#\n",
    "# # Adjust legend position\n",
    "# plt.legend(loc='center left', bbox_to_anchor=(1, 0.5))\n",
    "#\n",
    "# # Show plot\n",
    "# plt.grid(True)\n",
    "# plt.show()\n",
    "\n",
    "long_knn_results = knn_results.melt(id_vars='k', var_name='rescale_method', value_name='accuracy')\n",
    "\n",
    "# Select the rows with the maximum accuracy for each rescale method\n",
    "max_accuracy_rows = long_knn_results.loc[long_knn_results.groupby('rescale_method')['accuracy'].idxmax()]\n",
    "\n",
    "print(max_accuracy_rows)\n",
    "\n",
    "# Ensure 'popularity' is included in pop_norm\n",
    "pop_norm['popularity'] = cleared_data['popularity']\n",
    "\n",
    "# Splitting data into features (X) and target (y)\n",
    "X = pop_norm.drop(columns=['popularity'])  # Exclude 'popularity' from features\n",
    "y = pop_norm['popularity']  # Use 'popularity' as the target column\n",
    "\n",
    "# Splitting data into train and test sets\n",
    "X_train, X_test, y_train, y_test = train_test_split(X, y, test_size=0.2, random_state=42)\n",
    "\n",
    "# Initializing KNN classifier\n",
    "knn_classifier = KNeighborsClassifier(n_neighbors=2)\n",
    "\n",
    "# Fitting the classifier on the training data\n",
    "knn_classifier.fit(X_train, y_train)\n",
    "\n",
    "# Predicting on the test data\n",
    "y_pred = knn_classifier.predict(X_test)\n",
    "\n",
    "# Calculating confusion matrix\n",
    "cm = confusion_matrix(y_test, y_pred)\n",
    "print(cm)\n"
   ],
   "metadata": {
    "collapsed": false
   },
   "id": "f6ff77985272747b"
  },
  {
   "cell_type": "markdown",
   "source": [
    "## Classification modal "
   ],
   "metadata": {
    "collapsed": false
   },
   "id": "fd29b98345ced234"
  },
  {
   "cell_type": "code",
   "outputs": [],
   "source": [
    "import numpy as np\n",
    "\n",
    "np.random.seed(3870)\n",
    "\n",
    "# Extracting features and target variable\n",
    "X = cleared_data[columns_data]\n",
    "Y = cleared_data['popularity']\n",
    "\n",
    "# Perform one-hot encoding on categorical variables\n",
    "X_encoded = pd.get_dummies(X)\n",
    "\n",
    "# Split the data into training and testing sets\n",
    "X_train, X_test, y_train, y_test = train_test_split(X_encoded, Y, test_size=0.2, random_state=3870)\n",
    "\n",
    "# Initialize the classifier\n",
    "clf = tree.DecisionTreeClassifier(criterion='entropy', splitter='best', min_samples_split=2, min_samples_leaf=1,\n",
    "                                  ccp_alpha=0.0, random_state=3870)\n",
    "\n",
    "# Fit the classifier to the training data\n",
    "clf.fit(X_train, y_train)\n",
    "\n",
    "# Evaluate the classifier on the testing data\n",
    "accuracy = clf.score(X_test, y_test)\n",
    "print(\"Accuracy:\", accuracy)\n",
    "\n",
    "# Calculate the cost complexity pruning path\n",
    "ccp_path = clf.cost_complexity_pruning_path(X_train, y_train)\n",
    "\n",
    "# Use the ccp_path to find the best value of cp to use to prune the full tree\n",
    "best_cp_index = np.argmin(ccp_path['ccp_alphas'])\n",
    "best_cp = ccp_path['ccp_alphas'][best_cp_index]\n",
    "\n",
    "# Use the best value of cp to prune the full tree\n",
    "pruned_clf = tree.DecisionTreeClassifier(criterion='entropy', splitter='best', min_samples_split=2,\n",
    "                                         min_samples_leaf=1,\n",
    "                                         ccp_alpha=best_cp, random_state=3870)\n",
    "pruned_clf.fit(X_train, y_train)\n",
    "\n",
    "# Evaluate the pruned classifier on the testing data\n",
    "pruned_accuracy = pruned_clf.score(X_test, y_test)\n",
    "print(\"Pruned Accuracy:\", pruned_accuracy)\n",
    "\n",
    "# Print the best value of cp\n",
    "print(\"Best value of cp:\", best_cp)\n",
    "\n",
    "# Prune the tree\n",
    "cancer_prune = tree.DecisionTreeClassifier(ccp_alpha=best_cp)\n",
    "cancer_prune.fit(X_train, y_train)\n",
    "\n",
    "# Plot the tree\n",
    "plt.figure(figsize=(12, 8))\n",
    "tree.plot_tree(cancer_prune, filled=True, feature_names=X_train.columns,\n",
    "               class_names=cancer_prune.classes_.astype(str))\n",
    "plt.show()"
   ],
   "metadata": {
    "collapsed": false
   },
   "id": "10b7c651692eb6fe"
  }
 ],
 "metadata": {
  "kernelspec": {
   "display_name": "Python 3",
   "language": "python",
   "name": "python3"
  },
  "language_info": {
   "codemirror_mode": {
    "name": "ipython",
    "version": 2
   },
   "file_extension": ".py",
   "mimetype": "text/x-python",
   "name": "python",
   "nbconvert_exporter": "python",
   "pygments_lexer": "ipython2",
   "version": "2.7.6"
  }
 },
 "nbformat": 4,
 "nbformat_minor": 5
}
