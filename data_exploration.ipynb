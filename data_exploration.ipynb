{
 "cells": [
  {
   "cell_type": "code",
   "execution_count": 4,
   "metadata": {
    "ExecuteTime": {
     "end_time": "2024-04-30T03:46:51.303423Z",
     "start_time": "2024-04-30T03:46:50.359928Z"
    }
   },
   "outputs": [],
   "source": [
    "# Read in the data\n",
    "import pandas as pd\n",
    "import seaborn as sns\n",
    "import matplotlib.pyplot as plt\n",
    "\n",
    "song_data = pd.read_csv('data/song_data.csv')"
   ]
  },
  {
   "cell_type": "code",
   "execution_count": 6,
   "metadata": {
    "ExecuteTime": {
     "end_time": "2024-04-30T03:47:40.212059Z",
     "start_time": "2024-04-30T03:47:39.338798Z"
    }
   },
   "outputs": [],
   "source": [
    "# using the average we can make model like linear regression, decision tree, or forest\n",
    "\n",
    "cleared_data = pd.read_csv('data/song_data.csv').drop(columns=['track_id', 'key']).dropna(how='any')\n",
    "\n",
    "cleared_data['popularity'] = cleared_data['popularity'].apply(lambda x: 'popular' if x > 75 else 'not_popular')\n",
    "\n",
    "# Convert True to 1 and False to 0 in the \"popularity\" column\n",
    "cleared_data['explicit'] = cleared_data['explicit'].astype(int)\n",
    "\n",
    "# Remove duplicates based on track name\n",
    "cleared_data = cleared_data.drop_duplicates(subset=['track_name'])\n",
    "\n",
    "# Convert milliseconds to seconds\n",
    "cleared_data['duration_s'] = cleared_data['duration_ms'] / 1000\n",
    "\n",
    "# List of columns you want to keep\n",
    "columns_to_keep = ['popularity', 'duration_s', 'explicit', 'danceability', 'energy', 'loudness', 'speechiness',\n",
    "                   'acousticness', 'instrumentalness', 'liveness', 'valence', 'tempo', 'time_signature']\n",
    "\n",
    "columns_to_get_mean = ['duration_s', 'explicit', 'danceability', 'energy', 'loudness', 'speechiness',\n",
    "                       'acousticness', 'instrumentalness', 'liveness', 'valence', 'tempo']\n",
    "\n",
    "# Filtering columns\n",
    "# cleared_data = cleared_data[columns_to_keep]\n",
    "\n",
    "# # Reshape the data to long format\n",
    "# long_data = pd.melt(cleared_data, id_vars=['popularity'], var_name='feature', value_name='value')\n",
    "# \n",
    "# # Calculate the mean for each feature and diagnosis\n",
    "# means = long_data.groupby(['feature', 'popularity'])['value'].mean().reset_index()\n",
    "# \n",
    "# # Reshape the data back to wide format\n",
    "# wide_means = means.pivot(index='feature', columns='popularity', values='value')\n",
    "# \n",
    "# # Print the result\n",
    "# print(wide_means)\n",
    "\n",
    "# create a blx plot\n",
    "# Create a box plot\n",
    "# sns.set(style=\"whitegrid\")\n",
    "# g = sns.FacetGrid(long_data, col='feature', col_wrap=2, margin_titles=True,\n",
    "#                   xlim=(long_data['value'].min(), long_data['value'].max()))\n",
    "# g.map(sns.boxplot, 'value', 'popularity', 'popularity', order=['popular', 'not_popular'],\n",
    "#       hue_order=['popular', 'not_popular'], palette={\"popular\": \"tomato\", \"not_popular\": \"cyan\"})\n",
    "# plt.title(\"\")\n",
    "# plt.xlabel(\"\")\n",
    "# plt.ylabel(\"\")\n",
    "# plt.legend().remove()  # Remove the legend\n",
    "# plt.show()\n"
   ]
  },
  {
   "cell_type": "code",
   "execution_count": 1,
   "metadata": {
    "ExecuteTime": {
     "end_time": "2024-04-30T03:46:05.601517Z",
     "start_time": "2024-04-30T03:46:05.136205Z"
    }
   },
   "outputs": [
    {
     "ename": "NameError",
     "evalue": "name 'song_data' is not defined",
     "output_type": "error",
     "traceback": [
      "\u001B[0;31m---------------------------------------------------------------------------\u001B[0m",
      "\u001B[0;31mNameError\u001B[0m                                 Traceback (most recent call last)",
      "Cell \u001B[0;32mIn[1], line 1\u001B[0m\n\u001B[0;32m----> 1\u001B[0m \u001B[43msong_data\u001B[49m\u001B[38;5;241m.\u001B[39mdescribe()\n",
      "\u001B[0;31mNameError\u001B[0m: name 'song_data' is not defined"
     ]
    }
   ],
   "source": [
    "song_data.describe()"
   ]
  },
  {
   "cell_type": "code",
   "execution_count": null,
   "metadata": {
    "ExecuteTime": {
     "start_time": "2024-04-30T03:46:05.602741Z"
    }
   },
   "outputs": [],
   "source": [
    "\"\"\"\n",
    "Looking at the table above.\n",
    "Popularity, duration, key, loudness, tempo and time_signature have occurences that go beyond the range of 0-1.\n",
    "25% of values in instrumentalness are less than or equal to 0 so we can impute. They are predominantly instrumental\n",
    "75% of values in mode are equal to 1, mode may be dropped from the feature selection process as it conveys litle information about individual tracks\n",
    "\"\"\""
   ]
  },
  {
   "cell_type": "code",
   "execution_count": null,
   "metadata": {
    "ExecuteTime": {
     "end_time": "2024-04-30T03:46:05.625115Z",
     "start_time": "2024-04-30T03:46:05.605616Z"
    }
   },
   "outputs": [],
   "source": [
    "track_count = len(song_data.track_name.unique())\n",
    "track_count"
   ]
  },
  {
   "cell_type": "code",
   "execution_count": null,
   "metadata": {
    "ExecuteTime": {
     "start_time": "2024-04-30T03:46:05.608508Z"
    }
   },
   "outputs": [],
   "source": [
    "# find duplicates\n",
    "duplicate_rows = song_data[song_data.duplicated(['track_name'])]\n",
    "len(duplicate_rows)"
   ]
  },
  {
   "cell_type": "code",
   "execution_count": 8,
   "metadata": {
    "ExecuteTime": {
     "end_time": "2024-04-30T03:49:01.255182Z",
     "start_time": "2024-04-30T03:49:01.201944Z"
    }
   },
   "outputs": [],
   "source": [
    "# drop duplicates\n",
    "song_data = song_data.drop_duplicates(subset=['track_name'])\n",
    "song_data\n",
    "\n",
    "popular_songs = song_data[song_data['popularity'] > 75]"
   ]
  },
  {
   "cell_type": "markdown",
   "metadata": {},
   "source": [
    "#### Genre Analysis "
   ]
  },
  {
   "cell_type": "code",
   "execution_count": 9,
   "metadata": {
    "ExecuteTime": {
     "end_time": "2024-04-30T03:49:05.143794Z",
     "start_time": "2024-04-30T03:49:05.119261Z"
    }
   },
   "outputs": [
    {
     "data": {
      "text/plain": "113"
     },
     "execution_count": 9,
     "metadata": {},
     "output_type": "execute_result"
    }
   ],
   "source": [
    "genres = song_data.track_genre.unique()\n",
    "len(genres)"
   ]
  },
  {
   "cell_type": "code",
   "execution_count": 23,
   "metadata": {
    "ExecuteTime": {
     "end_time": "2024-04-30T03:55:03.365563Z",
     "start_time": "2024-04-30T03:55:01.635985Z"
    }
   },
   "outputs": [
    {
     "name": "stdout",
     "output_type": "stream",
     "text": [
      "['acoustic' 'afrobeat' 'alt-rock' 'alternative' 'ambient' 'anime'\n",
      " 'black-metal' 'bluegrass' 'blues' 'brazil' 'breakbeat' 'british'\n",
      " 'cantopop' 'chicago-house' 'children' 'chill' 'classical' 'club' 'comedy'\n",
      " 'country' 'dance' 'dancehall' 'death-metal' 'deep-house' 'detroit-techno'\n",
      " 'disco' 'disney' 'drum-and-bass' 'dub' 'dubstep' 'edm' 'electro'\n",
      " 'electronic' 'emo' 'folk' 'forro' 'french' 'funk' 'garage' 'german'\n",
      " 'gospel' 'goth' 'grindcore' 'groove' 'grunge' 'guitar' 'happy'\n",
      " 'hard-rock' 'hardcore' 'hardstyle' 'heavy-metal' 'hip-hop' 'honky-tonk'\n",
      " 'house' 'idm' 'indian' 'indie-pop' 'indie' 'industrial' 'iranian'\n",
      " 'j-dance' 'j-idol' 'j-pop' 'j-rock' 'jazz' 'k-pop' 'kids' 'latin'\n",
      " 'latino' 'malay' 'mandopop' 'metal' 'metalcore' 'minimal-techno' 'mpb'\n",
      " 'new-age' 'opera' 'pagode' 'party' 'piano' 'pop-film' 'pop' 'power-pop'\n",
      " 'progressive-house' 'psych-rock' 'punk-rock' 'punk' 'r-n-b' 'reggae'\n",
      " 'reggaeton' 'rock-n-roll' 'rock' 'rockabilly' 'romance' 'sad' 'salsa'\n",
      " 'samba' 'sertanejo' 'show-tunes' 'singer-songwriter' 'ska' 'sleep' 'soul'\n",
      " 'spanish' 'study' 'swedish' 'synth-pop' 'tango' 'techno' 'trance'\n",
      " 'trip-hop' 'turkish' 'world-music']\n",
      "black-metal    981\n",
      "comedy         965\n",
      "afrobeat       945\n",
      "heavy-metal    944\n",
      "cantopop       935\n",
      "              ... \n",
      "reggae         142\n",
      "rock           116\n",
      "house           98\n",
      "indie           93\n",
      "reggaeton       56\n",
      "Name: track_genre, Length: 113, dtype: int64\n"
     ]
    },
    {
     "name": "stderr",
     "output_type": "stream",
     "text": [
      "/var/folders/wr/svzmgkks5q13hzsr_6sq82m40000gn/T/ipykernel_52835/1398396938.py:5: FutureWarning: \n",
      "\n",
      "Passing `palette` without assigning `hue` is deprecated and will be removed in v0.14.0. Assign the `x` variable to `hue` and set `legend=False` for the same effect.\n",
      "\n",
      "  sns.barplot(x=cleared_data['track_genre'].unique()[0:50],y=cleared_data['track_genre'].value_counts()[0:50], palette='rainbow')\n"
     ]
    },
    {
     "data": {
      "text/plain": "<Figure size 1200x800 with 1 Axes>",
      "image/png": "[encoded data removed]"
     },
     "metadata": {},
     "output_type": "display_data"
    }
   ],
   "source": [
    "plt.figure(figsize=(12, 8))\n",
    "print(cleared_data['track_genre'].unique())\n",
    "print(cleared_data['track_genre'].value_counts())\n",
    "cleared_data['genre_totals'] = cleared_data['track_genre'].value_counts()\n",
    "sns.barplot(x=cleared_data['track_genre'].unique()[0:50],y=cleared_data['track_genre'].value_counts()[0:50], palette='rainbow')\n",
    "\n",
    "plt.xlabel('Genre', fontsize=12)\n",
    "plt.ylabel('Total Songs', fontsize=12)\n",
    "plt.title('Number of Songs by Genre', fontsize=16)\n",
    "plt.xticks(rotation=90)\n",
    "plt.tight_layout()\n",
    "\n",
    "plt.show()"
   ]
  },
  {
   "cell_type": "code",
   "execution_count": null,
   "metadata": {
    "ExecuteTime": {
     "start_time": "2024-04-30T03:45:30.597510Z"
    }
   },
   "outputs": [],
   "source": [
    "# Filter popular songs with the genre\n",
    "club_genre_songs = popular_songs[popular_songs['track_genre'] == 'house']\n",
    "\n",
    "# Calculate the mean popularity for the genre\n",
    "mean_popularity_club_genre = club_genre_songs['popularity'].mean()\n",
    "\n",
    "print(\"Mean popularity for the genre:\", mean_popularity_club_genre)"
   ]
  },
  {
   "cell_type": "code",
   "execution_count": null,
   "metadata": {
    "ExecuteTime": {
     "start_time": "2024-04-30T03:45:30.597690Z"
    }
   },
   "outputs": [],
   "source": [
    "\"\"\"\n",
    "Look into more songs in the genres with the highest count to discover popular and trending tracks.\n",
    "Black metal, comedy and Afrobeats have the highest frequencies.\n",
    "\n",
    "\"\"\"\n",
    "# for exact numbers\n",
    "genre_count = song_data['track_genre'].value_counts()\n",
    "genre_count"
   ]
  },
  {
   "cell_type": "markdown",
   "metadata": {},
   "source": [
    "#### Genre Vs Dancebility (or any other feature) with popular songs being > 75"
   ]
  },
  {
   "cell_type": "code",
   "execution_count": null,
   "metadata": {
    "ExecuteTime": {
     "start_time": "2024-04-30T03:45:30.597846Z"
    }
   },
   "outputs": [],
   "source": [
    "\n",
    "plt.figure(figsize=(12, 8))\n",
    "    \n",
    "sns.boxplot(data=popular_songs, x='track_genre', y='danceability', width=0.6)\n",
    "plt.xlabel('Genre')\n",
    "plt.ylabel('Danceability')\n",
    "plt.title('Boxlplot of Genre and dancebility (or other feature with popularity > 75)')\n",
    "plt.xticks(rotation=90)\n",
    "plt.show()\n"
   ]
  },
  {
   "cell_type": "code",
   "execution_count": null,
   "metadata": {
    "ExecuteTime": {
     "start_time": "2024-04-30T03:45:30.598014Z"
    }
   },
   "outputs": [],
   "source": [
    "\"\"\"\n",
    "interpret boxplot:\n",
    "genres with low dancibility \n",
    "genres with high dancibility \n",
    "can do with other features too\n",
    "\n",
    "maybe drop irrelevent genres\n",
    "\"\"\""
   ]
  },
  {
   "cell_type": "markdown",
   "metadata": {},
   "source": [
    "#### Audio"
   ]
  },
  {
   "cell_type": "code",
   "execution_count": null,
   "metadata": {
    "ExecuteTime": {
     "start_time": "2024-04-30T03:45:30.598174Z"
    }
   },
   "outputs": [],
   "source": [
    "# instrumentalness\n",
    "count = song_data['instrumentalness'].value_counts()[0]\n",
    "count"
   ]
  },
  {
   "cell_type": "code",
   "execution_count": null,
   "metadata": {
    "ExecuteTime": {
     "start_time": "2024-04-30T03:45:30.598343Z"
    }
   },
   "outputs": [],
   "source": [
    "# replce 0 with means\n",
    "song_data['instrumentalness'] = song_data['instrumentalness'].replace(0, song_data['instrumentalness'].mean())\n",
    "print(song_data['instrumentalness'])"
   ]
  },
  {
   "cell_type": "code",
   "execution_count": null,
   "metadata": {
    "ExecuteTime": {
     "start_time": "2024-04-30T03:45:30.598635Z"
    }
   },
   "outputs": [],
   "source": [
    "# convert explicit to boolean -  where 0 is False and 1 is True\n",
    "song_data['explicit'] = song_data['explicit'].astype(int)\n",
    "song_data['explicit']\n",
    "explicit_tracks = song_data[song_data['explicit'] == 1]\n",
    "print(explicit_tracks.head(10)) "
   ]
  },
  {
   "cell_type": "code",
   "execution_count": null,
   "metadata": {
    "ExecuteTime": {
     "start_time": "2024-04-30T03:45:30.598801Z"
    }
   },
   "outputs": [],
   "source": [
    "# Corrlation heat map\n",
    "# Drop unnecessary columns\n",
    "columns_to_keep = ['popularity', 'duration_ms', 'explicit', 'danceability', 'energy', 'key', 'loudness', 'mode', 'speechiness', 'acousticness', 'instrumentalness', 'liveness', 'valence', 'tempo', 'time_signature'] # To remove each of the columns that aren't float/int64 values, along with the song index values\n",
    "song_data = song_data[columns_to_keep]\n",
    "song_data_df = song_data\n",
    "\n",
    "# Calculate correlation matrix\n",
    "correlation_matrix = song_data_df.corr()\n",
    "\n",
    "# Create a heatmap\n",
    "plt.figure(figsize=(12, 10))\n",
    "heatmap = sns.heatmap(correlation_matrix, annot=True, cmap=\"coolwarm\", fmt=\".2f\", linewidths=.5)\n",
    "plt.title('Correlation Heatmap of song_data Features')\n",
    "plt.show()"
   ]
  },
  {
   "cell_type": "code",
   "execution_count": null,
   "metadata": {
    "ExecuteTime": {
     "start_time": "2024-04-30T03:45:30.598899Z"
    }
   },
   "outputs": [],
   "source": [
    "# histograms to analyze each audio feature\n",
    "song_data.hist(figsize=(15, 15), color = 'cyan')\n",
    "plt.tight_layout()\n",
    "plt.show()"
   ]
  },
  {
   "cell_type": "markdown",
   "metadata": {},
   "source": [
    "The 'duration' distribution is also not uniform across the data and can be dropped.\n",
    "\n",
    "The 'explicit' distribution is again discrete, and since most of the songs are non-explicit, we can drop this feature.\n",
    "\n",
    "Most of the distributions are skewed and hence a suitable scaling technique is required for processing the dataset."
   ]
  },
  {
   "cell_type": "code",
   "execution_count": null,
   "metadata": {
    "ExecuteTime": {
     "start_time": "2024-04-30T03:45:30.599031Z"
    }
   },
   "outputs": [],
   "source": [
    "song_data = song_data.drop(['duration_ms'], axis =1)"
   ]
  },
  {
   "cell_type": "code",
   "execution_count": null,
   "metadata": {
    "ExecuteTime": {
     "start_time": "2024-04-30T03:45:30.599121Z"
    }
   },
   "outputs": [],
   "source": [
    "# individual correlation with popularity\n",
    "import numpy as np\n",
    "from yellowbrick.target.feature_correlation import feature_correlation\n",
    "\n",
    "# Drop non-numeric or irrelevant columns\n",
    "X = song_data.drop(['popularity', 'track_genre'], axis=1)\n",
    "y = song_data['popularity']\n",
    "\n",
    "feature_names = X.columns.tolist()\n",
    "\n",
    "visualizer = feature_correlation(X.values, y.values, labels=feature_names)\n",
    "plt.tight_layout()\n",
    "plt.show()"
   ]
  },
  {
   "cell_type": "code",
   "execution_count": null,
   "metadata": {
    "ExecuteTime": {
     "start_time": "2024-04-30T03:45:30.599212Z"
    }
   },
   "outputs": [],
   "source": [
    "# scatter plot\n",
    "from sklearn.linear_model import LinearRegression\n",
    "\n",
    "def plot_feature(ax, feature_name, X, y, x_label):\n",
    "    regr = LinearRegression()\n",
    "    regr.fit(X, y)\n",
    "\n",
    "    ax.scatter(X, y, alpha=0.5, label=f'{feature_name} vs. Popularity')\n",
    "    ax.plot(X, regr.predict(X), color=\"red\", linewidth=3)\n",
    "    ax.set_xlabel(x_label)\n",
    "    ax.set_ylabel(\"Popularity\")\n",
    "    ax.set_title(\"Correlation\")\n",
    "\n",
    "# Create a single figure for all the subplots\n",
    "fig, axes = plt.subplots(3, 3, figsize=(20, 10))\n",
    "fig.subplots_adjust(wspace=0.3, hspace=0.5)\n",
    "\n",
    "# List of features and their corresponding column names\n",
    "features = [\"Valence\", \"Speechiness\", \"Acousticness\", \"Liveness\", \"Energy\", \"Instrumentalness\", \"Loudness\", \"Tempo\"]\n",
    "columns = [\"valence\", \"speechiness\", \"acousticness\", \"liveness\", \"energy\", \"instrumentalness\", \"loudness\", \"tempo\"]\n",
    "\n",
    "for i, feature_name in enumerate(features):\n",
    "    row, col = divmod(i, 3)\n",
    "    plot_feature(\n",
    "        axes[row, col],\n",
    "        feature_name,\n",
    "        song_data[[columns[i]]].values,\n",
    "        song_data[\"popularity\"].values,\n",
    "        feature_name\n",
    "    )\n",
    "plt.show()"
   ]
  },
  {
   "cell_type": "code",
   "execution_count": null,
   "metadata": {
    "ExecuteTime": {
     "start_time": "2024-04-30T03:45:30.599313Z"
    }
   },
   "outputs": [],
   "source": [
    "# Robost Scaling - \n",
    "# Robust scaling produces a much wider range of values than the standard scaler. \n",
    "# Outliers cause the mean and standard deviation to soar to much higher values. \n",
    "\n",
    "from sklearn.preprocessing import RobustScaler\n",
    "# Select the columns to be scaled (exclude 'track_genre')\n",
    "numeric_columns = ['popularity', 'danceability', 'energy', 'key', 'loudness', 'mode', 'speechiness', 'acousticness', 'instrumentalness', 'liveness', 'valence', 'tempo', 'time_signature', 'explicit', 'mode']\n",
    "\n",
    "# Create a RobustScaler instance\n",
    "scaler = RobustScaler()\n",
    "\n",
    "# Apply Robust scaling to the selected columns\n",
    "song_data[numeric_columns] = scaler.fit_transform(song_data[numeric_columns])"
   ]
  },
  {
   "cell_type": "code",
   "execution_count": null,
   "metadata": {
    "ExecuteTime": {
     "start_time": "2024-04-30T03:45:30.599406Z"
    }
   },
   "outputs": [],
   "source": [
    "song_data"
   ]
  },
  {
   "cell_type": "code",
   "execution_count": null,
   "metadata": {
    "ExecuteTime": {
     "start_time": "2024-04-30T03:45:30.599498Z"
    }
   },
   "outputs": [],
   "source": [
    "# Clustering by Genre\n",
    "# Calculate the mean danceability and mean valence for each genre\n",
    "genre_stats = song_data.groupby('track_genre').agg({'popularity': 'mean'}).reset_index()"
   ]
  },
  {
   "cell_type": "code",
   "execution_count": null,
   "metadata": {
    "ExecuteTime": {
     "start_time": "2024-04-30T03:45:30.599580Z"
    }
   },
   "outputs": [],
   "source": [
    "from sklearn.cluster import KMeans\n",
    "from scipy.spatial.distance import cdist\n",
    "\n",
    "range_n_clusters = [3, 4, 5, 6, 7]\n",
    "distortions = []\n",
    "\n",
    "for num_clusters in range_n_clusters:\n",
    "    # initialise kmeans\n",
    "    kmeans = KMeans(n_clusters=num_clusters)\n",
    "    kmeans.fit(genre_stats[['popularity']])\n",
    "    cluster_labels = kmeans.labels_\n",
    "    \n",
    "    # calculate distortion\n",
    "    distortions.append(sum(np.min(cdist(genre_stats[['popularity']], kmeans.cluster_centers_, 'euclidean'), axis=1)) / genre_stats.shape[0])\n",
    "\n",
    "plt.plot(range_n_clusters, distortions, 'bx-')\n",
    "plt.xlabel('Values of K') \n",
    "plt.ylabel('Distortion') \n",
    "plt.title('Elbow Method For Optimal k')\n",
    "plt.show()"
   ]
  },
  {
   "cell_type": "code",
   "outputs": [],
   "source": [
    "# Evaluating a KNN with 4-folds instead of 5-folds\n",
    "\n",
    "# List of columns you want to keep (Including Key)\n",
    "columns_to_keep = ['popularity', 'duration_s', 'explicit', 'danceability', 'energy', 'key', 'loudness', 'mode', 'speechiness', 'acousticness', 'instrumentalness', 'liveness', 'valence', 'tempo', 'time_signature']\n",
    "columns_to_get_mean = ['duration_s', 'explicit', 'danceability', 'energy', 'key', 'loudness', 'mode', 'speechiness', 'acousticness', 'instrumentalness', 'liveness', 'valence', 'tempo', 'time_signature']\n",
    "\n",
    "# Filtering columns\n",
    "cleared_data = cleared_data[columns_to_keep]\n",
    "# Reshape the data to long format\n",
    "long_data = pd.melt(cleared_data, id_vars=['popularity'], var_name='feature', value_name='value')\n",
    "# Calculate the mean for each feature and diagnosis\n",
    "means = long_data.groupby(['feature', 'popularity'])['value'].mean().reset_index()\n",
    "# Reshape the data back to wide format\n",
    "wide_means = means.pivot(index='feature', columns='popularity', values='value')\n"
   ],
   "metadata": {
    "collapsed": false,
    "ExecuteTime": {
     "start_time": "2024-04-30T03:45:30.599665Z"
    }
   },
   "execution_count": null
  },
  {
   "cell_type": "code",
   "outputs": [],
   "source": [
    "song_data[columns_to_keep]"
   ],
   "metadata": {
    "collapsed": false,
    "ExecuteTime": {
     "start_time": "2024-04-30T03:45:30.599792Z"
    }
   }
  },
  {
   "cell_type": "markdown",
   "metadata": {},
   "source": [
    "## cluster For danceabilty and valence"
   ]
  },
  {
   "cell_type": "code",
   "execution_count": null,
   "metadata": {
    "ExecuteTime": {
     "start_time": "2024-04-30T03:45:30.599901Z"
    }
   },
   "outputs": [],
   "source": [
    "genre_stats = song_data.groupby('track_genre').agg({'danceability': 'mean', 'valence': 'mean'}).reset_index()"
   ]
  },
  {
   "cell_type": "code",
   "execution_count": null,
   "metadata": {
    "ExecuteTime": {
     "start_time": "2024-04-30T03:45:30.599993Z"
    }
   },
   "outputs": [],
   "source": [
    "from sklearn.cluster import KMeans\n",
    "from scipy.spatial.distance import cdist\n",
    "range_n_clusters = [3, 4, 5, 6, 7]\n",
    "distortions = []\n",
    "\n",
    "for num_clusters in range_n_clusters:\n",
    "    # initialise kmeans\n",
    "    kmeans = KMeans(n_clusters=num_clusters)\n",
    "    kmeans.fit(genre_stats[['danceability', 'valence']])\n",
    "    cluster_labels = kmeans.labels_\n",
    "    \n",
    "    # calculate distortion\n",
    "    distortions.append(sum(np.min(cdist(genre_stats[['danceability', 'valence']], kmeans.cluster_centers_, 'euclidean'), axis=1)) / genre_stats.shape[0])\n",
    "\n",
    "plt.plot(range_n_clusters, distortions, 'bx-')\n",
    "plt.xlabel('Values of K') \n",
    "plt.ylabel('Distortion') \n",
    "plt.title('Elbow Method For Optimal k')\n",
    "plt.show()"
   ]
  },
  {
   "cell_type": "code",
   "execution_count": null,
   "metadata": {
    "ExecuteTime": {
     "start_time": "2024-04-30T03:45:30.600082Z"
    }
   },
   "outputs": [],
   "source": [
    "# Number of clusters (you can adjust this based on your preference)\n",
    "num_clusters = 5\n",
    "\n",
    "# Perform K-Means clustering based on mean danceability and mean valence\n",
    "kmeans = KMeans(n_clusters=num_clusters, random_state=10)\n",
    "genre_stats['cluster'] = kmeans.fit_predict(genre_stats[['danceability', 'valence']])\n",
    "custom_cluster_labels = list(range(num_clusters))\n",
    "\n",
    "# Plot the clusters\n",
    "plt.scatter(genre_stats['danceability'], genre_stats['valence'], c=genre_stats['cluster'], cmap='rainbow')\n",
    "plt.xlabel('Mean Danceability')\n",
    "plt.ylabel('Mean Valence')\n",
    "plt.title('Clusters of Music Genres Based on Mean Danceability and Mean Valence')\n",
    "plt.show()\n",
    "\n",
    "# Display the cluster assignments\n",
    "print(genre_stats[['track_genre', 'danceability', 'valence', 'cluster']])"
   ]
  }
 ],
 "metadata": {
  "kernelspec": {
   "display_name": "Python 3",
   "language": "python",
   "name": "python3"
  },
  "language_info": {
   "codemirror_mode": {
    "name": "ipython",
    "version": 3
   },
   "file_extension": ".py",
   "mimetype": "text/x-python",
   "name": "python",
   "nbconvert_exporter": "python",
   "pygments_lexer": "ipython3",
   "version": "3.11.4"
  }
 },
 "nbformat": 4,
 "nbformat_minor": 2
}
